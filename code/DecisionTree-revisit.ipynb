{
 "cells": [
  {
   "cell_type": "code",
   "execution_count": 47,
   "metadata": {
    "collapsed": false
   },
   "outputs": [],
   "source": [
    "import pandas as pd\n",
    "import numpy as np\n",
    "import pprint\n",
    "from ml_utils import Utils\n",
    "\n",
    "from nltk.stem.snowball import SnowballStemmer\n",
    "from sklearn import tree\n",
    "from sklearn.metrics import mean_squared_error, make_scorer\n",
    "from sklearn.grid_search import GridSearchCV\n",
    "from sklearn.learning_curve import learning_curve, validation_curve\n",
    "\n",
    "from pylab import figure, axes, title, savefig\n",
    "import matplotlib.pyplot as plt\n",
    "\n",
    "MIN_VAL = 1.0\n",
    "MAX_VAL = 3.0"
   ]
  },
  {
   "cell_type": "markdown",
   "metadata": {},
   "source": [
    "**Note about files being read:** These inputs are produced by running the `str_stem` function. They are essentially the files provided in the competition, but the strings have been pre-processed to eliminate irrelevant characters and other interferences, as well as to stem the strings, i.e., minimize the differences from inflexions found in the language (e.g., \"cat\" and \"cats\" are stemmed to the same word to maximize matches once the numerical features are calculated)."
   ]
  },
  {
   "cell_type": "code",
   "execution_count": 3,
   "metadata": {
    "collapsed": true
   },
   "outputs": [],
   "source": [
    "df_train = pd.read_csv(\"../input/_final_train.csv\", encoding=\"ISO-8859-1\")\n",
    "df_test = pd.read_csv('../input/_final_test.csv', encoding=\"ISO-8859-1\")\n",
    "df_attr = pd.read_csv('../input/attributes.csv')\n",
    "df_prod_desc = pd.read_csv('../input/_final_desc.csv', index_col=\"product_uid\")\n",
    "ytrain = df_train[\"relevance\"]"
   ]
  },
  {
   "cell_type": "code",
   "execution_count": 4,
   "metadata": {
    "collapsed": false
   },
   "outputs": [
    {
     "name": "stdout",
     "output_type": "stream",
     "text": [
      "             Unnamed: 0                                product_description\n",
      "product_uid                                                               \n",
      "100001                0  not on do angl make joint stronger they also p...\n",
      "100002                1  behr premium textur deckov is an innov solid c...\n",
      "100003                2  classic architectur meet contemporari design i...\n",
      "100004                3  the grape solar 265watt. polycrystallin pv sol...\n",
      "100005                4  updat your bathroom with the delta vero singl ...\n"
     ]
    }
   ],
   "source": [
    "# Make sure it worked\n",
    "print df_prod_desc.head()"
   ]
  },
  {
   "cell_type": "markdown",
   "metadata": {},
   "source": [
    "## Utilities"
   ]
  },
  {
   "cell_type": "code",
   "execution_count": 5,
   "metadata": {
    "collapsed": false
   },
   "outputs": [],
   "source": [
    "def print_scores(clf, verbose=False):\n",
    "    \"\"\"\n",
    "    Prints the best scores and best parameters found in cross-validation.\n",
    "    Takes:\n",
    "    - clf, a classifier that has been cross-validated by grid search.\n",
    "    Returns:\n",
    "    \"\"\"\n",
    "    pp = pprint.PrettyPrinter(indent=4)\n",
    "    print \"Best score and parameters:\"\n",
    "    pp.pprint(clf.best_score_)\n",
    "    pp.pprint(clf.best_params_)\n",
    "    \n",
    "    if verbose:\n",
    "        print \"~~~Verbose output~~~\"\n",
    "        print \"All scores\"\n",
    "        pp.pprint(clf.grid_scores_)\n",
    "    \n",
    "def fmean_squared_error(ground_truth, predictions):\n",
    "    \"\"\"\n",
    "    Returns the difference between the actual value and the predictions\n",
    "    output by a classifier\n",
    "    Takes:\n",
    "    - ground_truth, the actual value Y of the inputs X being predicted.\n",
    "    - predictions, the predicted value Yhat of the inputs X.\n",
    "    Returns:\n",
    "    - \n",
    "    \"\"\"\n",
    "    fmean_squared_error_ = mean_squared_error(ground_truth, predictions)**0.5\n",
    "    return fmean_squared_error_\n",
    "\n",
    "def is_prediction_in_range(yhat, min_val, max_val, verbose=False):\n",
    "    \"\"\"Returns whether the values of a prediction are in the expected range\"\"\"\n",
    "    return min(yhat) >= min_val and max(yhat) <= max_val\n",
    "\n",
    "def export_data(yhat, is_test, predictor_name):\n",
    "        output_folder = \"../output/\"\n",
    "\n",
    "        if not is_test:\n",
    "            # Most common words in data with the worst errors\n",
    "            df_word_cloud = pd.DataFrame(0, index=np.arange(len(df_train)),\\\n",
    "                                    columns=[\"product_title\", \"search_term\",\\\n",
    "                                         \"Y\", \"Yhat\", \"diff\"])\n",
    "\n",
    "            # Exports Y, Yhat and difference between them.\n",
    "            # Can be helpful for tuning or seeing patterns\n",
    "            df_num = pd.DataFrame(0, index=np.arange(len(df_train)),\\\n",
    "                                    columns=[\"Y\", \"Yhat\", \"diff\"])\n",
    "\n",
    "            # Word cloud\n",
    "            df_word_cloud[\"product_title\"] = df_train[\"product_title\"]\n",
    "            df_word_cloud[\"search_term\"] = df_train[\"search_term\"]\n",
    "            df_word_cloud[\"Y\"] = df_train[\"relevance\"]\n",
    "            df_word_cloud[\"Yhat\"] = yhat\n",
    "            df_word_cloud[\"diff\"] = (df_word_cloud[\"Y\"] - df_word_cloud[\"Yhat\"]) ** 2\n",
    "\n",
    "            # Diff\n",
    "            df_num[\"Y\"] = df_train[\"relevance\"]\n",
    "            df_num[\"Yhat\"] = yhat\n",
    "            df_num[\"diff\"] = df_word_cloud[\"diff\"]\n",
    "\n",
    "            output_file_words = output_folder + predictor_name + \"_word_cloud.csv\"\n",
    "            output_file_num = output_folder + predictor_name + \"_num.csv\"\n",
    "\n",
    "            df_word_cloud.to_csv(output_file_words, encoding=\"utf-8\")\n",
    "            df_num.to_csv(output_file_num, encoding=\"utf-8\")\n",
    "\n",
    "        else:\n",
    "            # Exports Yhat(testing data). This is the submission file\n",
    "            # df_result = pd.DataFrame(0, index=np.arange(len(df_test)),\n",
    "              #                      columns=[\"id\", \"relevance\"])\n",
    "\n",
    "            df_result = pd.DataFrame(yhat, columns=[\"relevance\"],\\\n",
    "                                    index=df_test[\"id\"])\n",
    "\n",
    "            output_file_yhat = output_folder + predictor_name + \"_yhat.csv\"\n",
    "\n",
    "            df_result.to_csv(output_file_yhat, encoding=\"utf-8\")\n",
    "\n",
    "\n",
    "RMSE = make_scorer(fmean_squared_error, greater_is_better=False)"
   ]
  },
  {
   "cell_type": "markdown",
   "metadata": {},
   "source": [
    "## Create numerical features\n",
    "### Simple feature extraction"
   ]
  },
  {
   "cell_type": "code",
   "execution_count": 8,
   "metadata": {
    "collapsed": false
   },
   "outputs": [],
   "source": [
    "train_num_feat = pd.DataFrame(0, index=np.arange(len(df_train)), columns=[\"search_in_title\",\\\n",
    "                                     \"search_in_desc\"])\n",
    "test_num_feat = pd.DataFrame(0, index=np.arange(len(df_test)), columns=[\"search_in_title\",\\\n",
    "                                     \"search_in_desc\"])\n",
    "\n",
    "# Count the training data occurrences\n",
    "for i in range(0, df_train.shape[0]):\n",
    "    search = df_train[\"search_term\"][i]  # Search term used by user\n",
    "    title = df_train[\"product_title\"][i] # Product Title\n",
    "    product_id = df_train.iloc[[i]][\"product_uid\"][i]  # Get product_uid of current index in df_train\n",
    "    description = df_prod_desc.loc[product_id][\"product_description\"] # Description of product id\n",
    "    \n",
    "    for word in search.split():\n",
    "\n",
    "        if word in title:\n",
    "            train_num_feat[\"search_in_title\"][i] += 1\n",
    "            \n",
    "        if word in description:\n",
    "            train_num_feat[\"search_in_desc\"][i] += 1\n",
    "            \n",
    "# Count the testing data occurrences\n",
    "for i in range(0, df_test.shape[0]):\n",
    "    search = df_test[\"search_term\"][i]  # Search term used by user\n",
    "    title = df_test[\"product_title\"][i] # Product Title\n",
    "    product_id = df_test.iloc[[i]][\"product_uid\"][i]  # Get product_uid of current index in df_train\n",
    "    description = df_prod_desc.loc[product_id][\"product_description\"] # Description of product id\n",
    "\n",
    "    for word in search.split():\n",
    "        \n",
    "        if word in title:\n",
    "            test_num_feat[\"search_in_title\"][i] += 1\n",
    "        \n",
    "        if word in description:\n",
    "            test_num_feat[\"search_in_desc\"][i] += 1"
   ]
  },
  {
   "cell_type": "markdown",
   "metadata": {},
   "source": [
    "#### Export them"
   ]
  },
  {
   "cell_type": "code",
   "execution_count": 9,
   "metadata": {
    "collapsed": false,
    "scrolled": false
   },
   "outputs": [
    {
     "name": "stdout",
     "output_type": "stream",
     "text": [
      "   search_in_title  search_in_desc\n",
      "0                1               1\n",
      "1                1               1\n",
      "2                1               1\n",
      "3                1               1\n",
      "4                3               2\n",
      "5                1               2\n",
      "6                2               2\n",
      "7                1               1\n",
      "8                2               2\n",
      "9                2               2\n"
     ]
    }
   ],
   "source": [
    "print train_num_feat.head(10)\n",
    "#train_num_feat.to_csv(\"../input/simple_train_num_feat.csv\")\n",
    "#test_num_feat.to_csv(\"../input/simple_test_num_feat.csv\")"
   ]
  },
  {
   "cell_type": "markdown",
   "metadata": {},
   "source": [
    "### Or import them \n",
    "#### Simple"
   ]
  },
  {
   "cell_type": "code",
   "execution_count": 6,
   "metadata": {
    "collapsed": false
   },
   "outputs": [
    {
     "data": {
      "text/html": [
       "<div>\n",
       "<table border=\"1\" class=\"dataframe\">\n",
       "  <thead>\n",
       "    <tr style=\"text-align: right;\">\n",
       "      <th></th>\n",
       "      <th>search_in_title</th>\n",
       "      <th>search_in_desc</th>\n",
       "    </tr>\n",
       "  </thead>\n",
       "  <tbody>\n",
       "    <tr>\n",
       "      <th>0</th>\n",
       "      <td>1</td>\n",
       "      <td>1</td>\n",
       "    </tr>\n",
       "    <tr>\n",
       "      <th>1</th>\n",
       "      <td>1</td>\n",
       "      <td>1</td>\n",
       "    </tr>\n",
       "    <tr>\n",
       "      <th>2</th>\n",
       "      <td>1</td>\n",
       "      <td>2</td>\n",
       "    </tr>\n",
       "    <tr>\n",
       "      <th>3</th>\n",
       "      <td>1</td>\n",
       "      <td>1</td>\n",
       "    </tr>\n",
       "    <tr>\n",
       "      <th>4</th>\n",
       "      <td>3</td>\n",
       "      <td>3</td>\n",
       "    </tr>\n",
       "  </tbody>\n",
       "</table>\n",
       "</div>"
      ],
      "text/plain": [
       "   search_in_title  search_in_desc\n",
       "0                1               1\n",
       "1                1               1\n",
       "2                1               2\n",
       "3                1               1\n",
       "4                3               3"
      ]
     },
     "execution_count": 6,
     "metadata": {},
     "output_type": "execute_result"
    }
   ],
   "source": [
    "train_num_feat = pd.read_csv(\"../input/simple_train_num_feat.csv\", usecols=[1,2])\n",
    "test_num_feat = pd.read_csv(\"../input/simple_test_num_feat.csv\", usecols=[1,2])\n",
    "\n",
    "train_num_feat.head()"
   ]
  },
  {
   "cell_type": "markdown",
   "metadata": {},
   "source": [
    "#### Or more complex"
   ]
  },
  {
   "cell_type": "code",
   "execution_count": 7,
   "metadata": {
    "collapsed": false
   },
   "outputs": [
    {
     "data": {
      "text/html": [
       "<div>\n",
       "<table border=\"1\" class=\"dataframe\">\n",
       "  <thead>\n",
       "    <tr style=\"text-align: right;\">\n",
       "      <th></th>\n",
       "      <th>query_len</th>\n",
       "      <th>title_len</th>\n",
       "      <th>desc_len</th>\n",
       "      <th>brand_len</th>\n",
       "      <th>query_in_title</th>\n",
       "      <th>query_in_desc</th>\n",
       "      <th>query_last_word_in_title</th>\n",
       "      <th>query_last_word_in_desc</th>\n",
       "      <th>word_in_title</th>\n",
       "      <th>word_in_desc</th>\n",
       "      <th>ratio_title</th>\n",
       "      <th>ratio_description</th>\n",
       "      <th>word_in_brand</th>\n",
       "      <th>ratio_brand</th>\n",
       "      <th>brand_feature</th>\n",
       "      <th>search_term_feature</th>\n",
       "    </tr>\n",
       "  </thead>\n",
       "  <tbody>\n",
       "    <tr>\n",
       "      <th>0</th>\n",
       "      <td>2</td>\n",
       "      <td>6</td>\n",
       "      <td>135</td>\n",
       "      <td>3</td>\n",
       "      <td>0</td>\n",
       "      <td>0</td>\n",
       "      <td>0</td>\n",
       "      <td>0</td>\n",
       "      <td>1</td>\n",
       "      <td>1</td>\n",
       "      <td>0.500</td>\n",
       "      <td>0.500</td>\n",
       "      <td>0</td>\n",
       "      <td>0.00</td>\n",
       "      <td>1000</td>\n",
       "      <td>12</td>\n",
       "    </tr>\n",
       "    <tr>\n",
       "      <th>1</th>\n",
       "      <td>2</td>\n",
       "      <td>6</td>\n",
       "      <td>135</td>\n",
       "      <td>3</td>\n",
       "      <td>0</td>\n",
       "      <td>0</td>\n",
       "      <td>0</td>\n",
       "      <td>0</td>\n",
       "      <td>1</td>\n",
       "      <td>1</td>\n",
       "      <td>0.500</td>\n",
       "      <td>0.500</td>\n",
       "      <td>0</td>\n",
       "      <td>0.00</td>\n",
       "      <td>1000</td>\n",
       "      <td>9</td>\n",
       "    </tr>\n",
       "    <tr>\n",
       "      <th>2</th>\n",
       "      <td>2</td>\n",
       "      <td>12</td>\n",
       "      <td>169</td>\n",
       "      <td>4</td>\n",
       "      <td>0</td>\n",
       "      <td>0</td>\n",
       "      <td>0</td>\n",
       "      <td>0</td>\n",
       "      <td>1</td>\n",
       "      <td>1</td>\n",
       "      <td>0.500</td>\n",
       "      <td>0.500</td>\n",
       "      <td>1</td>\n",
       "      <td>0.25</td>\n",
       "      <td>1000</td>\n",
       "      <td>9</td>\n",
       "    </tr>\n",
       "    <tr>\n",
       "      <th>3</th>\n",
       "      <td>3</td>\n",
       "      <td>14</td>\n",
       "      <td>109</td>\n",
       "      <td>1</td>\n",
       "      <td>0</td>\n",
       "      <td>0</td>\n",
       "      <td>0</td>\n",
       "      <td>0</td>\n",
       "      <td>1</td>\n",
       "      <td>1</td>\n",
       "      <td>0.333</td>\n",
       "      <td>0.333</td>\n",
       "      <td>0</td>\n",
       "      <td>0.00</td>\n",
       "      <td>1010</td>\n",
       "      <td>16</td>\n",
       "    </tr>\n",
       "    <tr>\n",
       "      <th>4</th>\n",
       "      <td>3</td>\n",
       "      <td>14</td>\n",
       "      <td>109</td>\n",
       "      <td>1</td>\n",
       "      <td>1</td>\n",
       "      <td>0</td>\n",
       "      <td>1</td>\n",
       "      <td>1</td>\n",
       "      <td>3</td>\n",
       "      <td>3</td>\n",
       "      <td>1.000</td>\n",
       "      <td>1.000</td>\n",
       "      <td>0</td>\n",
       "      <td>0.00</td>\n",
       "      <td>1010</td>\n",
       "      <td>18</td>\n",
       "    </tr>\n",
       "  </tbody>\n",
       "</table>\n",
       "</div>"
      ],
      "text/plain": [
       "   query_len  title_len  desc_len  brand_len  query_in_title  query_in_desc  \\\n",
       "0          2          6       135          3               0              0   \n",
       "1          2          6       135          3               0              0   \n",
       "2          2         12       169          4               0              0   \n",
       "3          3         14       109          1               0              0   \n",
       "4          3         14       109          1               1              0   \n",
       "\n",
       "   query_last_word_in_title  query_last_word_in_desc  word_in_title  \\\n",
       "0                         0                        0              1   \n",
       "1                         0                        0              1   \n",
       "2                         0                        0              1   \n",
       "3                         0                        0              1   \n",
       "4                         1                        1              3   \n",
       "\n",
       "   word_in_desc  ratio_title  ratio_description  word_in_brand  ratio_brand  \\\n",
       "0             1        0.500              0.500              0         0.00   \n",
       "1             1        0.500              0.500              0         0.00   \n",
       "2             1        0.500              0.500              1         0.25   \n",
       "3             1        0.333              0.333              0         0.00   \n",
       "4             3        1.000              1.000              0         0.00   \n",
       "\n",
       "   brand_feature  search_term_feature  \n",
       "0           1000                   12  \n",
       "1           1000                    9  \n",
       "2           1000                    9  \n",
       "3           1010                   16  \n",
       "4           1010                   18  "
      ]
     },
     "execution_count": 7,
     "metadata": {},
     "output_type": "execute_result"
    }
   ],
   "source": [
    "train_num_feat = pd.read_csv(\"../input/more_features/lab_x_train.csv\")\n",
    "test_num_feat = pd.read_csv(\"../input/more_features/lab_x_test.csv\")\n",
    "\n",
    "train_num_feat.head()"
   ]
  },
  {
   "cell_type": "markdown",
   "metadata": {},
   "source": [
    "## Fit the model and predict both testing and training values\n",
    "### Hand-tuning parameters\n",
    "At first, I played with various parameters to the predictor and used it to predict training data. If the decision tree is not stopped early enough, the model will clearly overfit, resulting in a training MSE of ~0.001 with the complex feature set. I thought it would be an interesting experiment to try to limit the overfitting by matching the _training_ errors of the predictors that we had created with the best public _testing_ error so far (training MSE ~0.22). Interestingly enough, so far this hand-tuned version of the decision tree is the version that has produced the best public testing score out of all decision tree regressors we have tried, scoring better than the cross-validated model that should select better values for the parameters (see next section). This is, of course, not necessarily representative of the final performance of the models, since before the deadline the submissions are only scored on a portion of the testing data, but I thought it was interesting enough to mention."
   ]
  },
  {
   "cell_type": "code",
   "execution_count": 8,
   "metadata": {
    "collapsed": false
   },
   "outputs": [
    {
     "name": "stdout",
     "output_type": "stream",
     "text": [
      "Training Yhat in range: True\n",
      "Testing Yhat in range: True\n",
      "Training MSE: 0.228578828314\n"
     ]
    }
   ],
   "source": [
    "clf = tree.DecisionTreeRegressor(min_samples_split=3, max_depth=6)\n",
    "# Train\n",
    "clf.fit(train_num_feat, df_train[\"relevance\"])\n",
    "\n",
    "# Predict training and testing data\n",
    "yhat_train_val = clf.predict(train_num_feat)\n",
    "yhat_test_val = clf.predict(test_num_feat)\n",
    "\n",
    "# Make sure results are within boundaries\n",
    "print \"Training Yhat in range: \" + str(is_prediction_in_range(yhat_train_val, MIN_VAL, MAX_VAL))\n",
    "print \"Testing Yhat in range: \" + str(is_prediction_in_range(yhat_test_val, MIN_VAL, MAX_VAL))\n",
    "# MSE\n",
    "err = (df_train[\"relevance\"] - yhat_train_val) ** 2\n",
    "mse_train = sum(err) / df_train.shape[0]\n",
    "print \"Training MSE: \" + str(mse_train)\n",
    "\n",
    "export_data(yhat_test_val, True, \"decision_tree_1_depth_lim\")"
   ]
  },
  {
   "cell_type": "markdown",
   "metadata": {},
   "source": [
    "### Cross-validation"
   ]
  },
  {
   "cell_type": "markdown",
   "metadata": {},
   "source": [
    "In order to cross validate, I will use `GridSearchCV`, a built-in scikit module that tries the different combinations of parameters that it is passed on a predictor, and stores the best parameters."
   ]
  },
  {
   "cell_type": "code",
   "execution_count": 9,
   "metadata": {
    "collapsed": false
   },
   "outputs": [
    {
     "data": {
      "text/plain": [
       "GridSearchCV(cv=None, error_score='raise',\n",
       "       estimator=DecisionTreeRegressor(criterion='mse', max_depth=None, max_features=None,\n",
       "           max_leaf_nodes=None, min_samples_leaf=1, min_samples_split=2,\n",
       "           min_weight_fraction_leaf=0.0, presort=False, random_state=None,\n",
       "           splitter='best'),\n",
       "       fit_params={}, iid=True, n_jobs=1,\n",
       "       param_grid={'presort': [True, False], 'splitter': ['best', 'random'], 'min_samples_split': array([ 1.,  2.,  3.,  4.,  5.]), 'max_features': array([ 1,  4,  8, 12, 16]), 'max_depth': array([  2.,   4.,   6.,   8.,  10.]), 'min_samples_leaf': array([ 1.,  2.,  3.,  4.,  5.])},\n",
       "       pre_dispatch='2*n_jobs', refit=True,\n",
       "       scoring=make_scorer(fmean_squared_error, greater_is_better=False),\n",
       "       verbose=0)"
      ]
     },
     "execution_count": 9,
     "metadata": {},
     "output_type": "execute_result"
    }
   ],
   "source": [
    "# Create the predictor\n",
    "tree_multi = tree.DecisionTreeRegressor()\n",
    "\n",
    "# Create parameter grid: Combinations of all of these parameters will be tried\n",
    "# with the predictor\n",
    "splitter = [\"best\", \"random\"]\n",
    "max_features = np.linspace(1, 16, 5).astype(int)\n",
    "max_depth = np.linspace(2, 10, 5)\n",
    "min_samples_split = np.linspace(1, 5, 5)\n",
    "min_samples_leaf = np.linspace(1, 5, 5)\n",
    "presort = [True, False]\n",
    "\n",
    "param_grid = dict(splitter=splitter, max_features=max_features,\\\n",
    "                  max_depth=max_depth,\\\n",
    "                  min_samples_split=min_samples_split,\\\n",
    "                  min_samples_leaf=min_samples_leaf,\\\n",
    "                  presort=presort\n",
    "                 )\n",
    "\n",
    "# Cross validate!\n",
    "reg_multi = GridSearchCV(tree_multi, param_grid=param_grid, scoring=RMSE)\n",
    "# Fit the final model on the training data\n",
    "reg_multi.fit(train_num_feat, ytrain)"
   ]
  },
  {
   "cell_type": "code",
   "execution_count": 10,
   "metadata": {
    "collapsed": false
   },
   "outputs": [],
   "source": [
    "yhat_multi = reg_multi.predict(test_num_feat)"
   ]
  },
  {
   "cell_type": "markdown",
   "metadata": {},
   "source": [
    "The parameters obtained from cross-validation follow. Run with `verbose=True` to see looong output."
   ]
  },
  {
   "cell_type": "code",
   "execution_count": 11,
   "metadata": {
    "collapsed": false
   },
   "outputs": [
    {
     "name": "stdout",
     "output_type": "stream",
     "text": [
      "Best score and parameters:\n",
      "-0.4852239132780885\n",
      "{   'max_depth': 8.0,\n",
      "    'max_features': 8,\n",
      "    'min_samples_leaf': 5.0,\n",
      "    'min_samples_split': 4.0,\n",
      "    'presort': True,\n",
      "    'splitter': 'best'}\n"
     ]
    }
   ],
   "source": [
    "print_scores(reg_multi)"
   ]
  },
  {
   "cell_type": "markdown",
   "metadata": {},
   "source": [
    "### Export output and  some data for plotting"
   ]
  },
  {
   "cell_type": "code",
   "execution_count": 13,
   "metadata": {
    "collapsed": false
   },
   "outputs": [],
   "source": [
    "export_data(yhat_multi, True, \"decision_tree_multi\")"
   ]
  },
  {
   "cell_type": "code",
   "execution_count": 66,
   "metadata": {
    "collapsed": false
   },
   "outputs": [],
   "source": [
    "# Learning curve\n",
    "train_sizes, train_scores, valid_scores = \\\n",
    "            learning_curve(reg_multi, train_num_feat,\\\n",
    "            ytrain, train_sizes=[50, 80, 110, 150], cv=5, scoring=RMSE)            "
   ]
  },
  {
   "cell_type": "code",
   "execution_count": 71,
   "metadata": {
    "collapsed": false
   },
   "outputs": [
    {
     "name": "stdout",
     "output_type": "stream",
     "text": [
      "Values obtained from cross-validation\n",
      "Number of elements sampled: [ 50  80 110 150]\n",
      "\n",
      "~~Training scores~~\n",
      " [[-0.45993752 -0.40637694 -0.37039307 -0.39338532 -0.4440584 ]\n",
      " [-0.45956567 -0.47565507 -0.44975344 -0.47471139 -0.45821725]\n",
      " [-0.4624149  -0.4846245  -0.47183498 -0.48559654 -0.44499943]\n",
      " [-0.43534955 -0.47724468 -0.44011993 -0.48532353 -0.47049449]]\n",
      "Mean: [-0.41483025 -0.46358057 -0.46989407 -0.46170643]\n",
      "\n",
      "~~Cross-validation scores~~\n",
      " [[-0.53024197 -0.56284812 -0.62138403 -0.61905781 -0.62466501]\n",
      " [-0.53981095 -0.54153844 -0.50838085 -0.5317069  -0.54471335]\n",
      " [-0.54572244 -0.51577763 -0.50228521 -0.55929289 -0.59515406]\n",
      " [-0.5204019  -0.50998108 -0.50682008 -0.5418097  -0.55069922]]\n",
      "Mean: [-0.59163939 -0.5332301  -0.54364645 -0.5259424 ]\n"
     ]
    }
   ],
   "source": [
    "# In order to plot, need to get the average of all\n",
    "# cross validation iterations\n",
    "train_scores_mean = np.mean(train_scores, axis=1)\n",
    "train_scores_std = np.std(train_scores, axis=1)\n",
    "valid_scores_mean = np.mean(valid_scores, axis=1)\n",
    "test_scores_std = np.std(valid_scores, axis=1)\n",
    "\n",
    "print \"Values obtained from cross-validation\"\n",
    "print \"Number of elements sampled: \" + str(train_sizes)\n",
    "print \"\\n~~Training scores~~\\n \" + str(train_scores)\\\n",
    "+ \"\\nMean: \" + str(train_scores_mean)\n",
    "print \"\\n~~Cross-validation scores~~\\n \" + str(valid_scores)\\\n",
    "+ \"\\nMean: \" + str(valid_scores_mean)\n",
    "\n",
    "figure()\n",
    "plt.figure()\n",
    "plt.title(\"Learning curve\")\n",
    "plt.xlabel(\"Sample size\")\n",
    "plt.ylabel(\"RMSE\")\n",
    "\n",
    "plt.plot(train_sizes, train_scores_mean, 'o--', color=\"r\",\n",
    "             label=\"Training score\")\n",
    "\n",
    "plt.plot(train_sizes, valid_scores_mean, 'o--', color=\"g\",\n",
    "             label=\"Cross-validation score\")\n",
    "\n",
    "plt.legend()\n",
    "\n",
    "savefig('../figures/decision_tree_learning_curve.png')"
   ]
  },
  {
   "cell_type": "code",
   "execution_count": null,
   "metadata": {
    "collapsed": true
   },
   "outputs": [],
   "source": [
    "![Min samples split][fig2]\n",
    "\n",
    "[fig2]: https://raw.githubusercontent.com/JuanCTorres/KaggleHomeDepot/master/figures/decision_tree_min_samples_split.png \"Minimum samples required to split\""
   ]
  },
  {
   "cell_type": "markdown",
   "metadata": {},
   "source": [
    "Create a couple of spaces for plotting the cross-validations of maximum depth and minimum split, which is the \"minimum number of samples required to split an internal node\", as expressed in the scikit documentation for `DecisionTreeRegressor`."
   ]
  },
  {
   "cell_type": "code",
   "execution_count": 72,
   "metadata": {
    "collapsed": false
   },
   "outputs": [],
   "source": [
    "# Create a couple of spaces for plotting the cross-validations\n",
    "# of maximum depth \n",
    "train_samples_split = np.linspace(1, 10, 5).astype(int)\n",
    "train_tree_depth = np.linspace(1, 10, 5).astype(int)"
   ]
  },
  {
   "cell_type": "code",
   "execution_count": 73,
   "metadata": {
    "collapsed": false
   },
   "outputs": [],
   "source": [
    "new_train_scores, new_valid_scores = validation_curve(tree_multi, train_num_feat,\\\n",
    "                                                      ytrain, \"min_samples_split\",\\\n",
    "                                                      train_samples_split, cv=5)\n",
    "\n",
    "depth_train_scores, depth_valid_scores = validation_curve(tree_multi, train_num_feat,\\\n",
    "                                                         ytrain, \"max_depth\",\n",
    "                                                         train_tree_depth, cv=5)"
   ]
  },
  {
   "cell_type": "code",
   "execution_count": 109,
   "metadata": {
    "collapsed": false
   },
   "outputs": [],
   "source": [
    "# Minimum samples required to split\n",
    "plt.figure()\n",
    "\n",
    "new_train_scores_mean = np.mean(new_train_scores, axis=1)\n",
    "new_valid_scores_mean = np.mean(new_valid_scores, axis=1)\n",
    "\n",
    "plt.plot(arr, new_train_scores_mean, 'o--', color='r',\n",
    "        label='Training score')\n",
    "plt.plot(arr, new_valid_scores_mean, 'o--', color='g',\n",
    "        label=\"Cross-validation scores\")\n",
    "\n",
    "#plt.legend(bbox_to_anchor=(1.05, 1), loc=3, borderaxespad=0., mode=\"expand\")\n",
    "plt.legend(bbox_to_anchor=(0., 0.75, 1., .102), loc=1,\n",
    "           ncol=1,  borderaxespad=0.2)\n",
    "plt.title(\"Validation curve\")\n",
    "plt.xlabel(\"Minimum samples required to split\")\n",
    "plt.ylabel(\"RMSE\")\n",
    "\n",
    "savefig(\"../figures/decision_tree_min_samples_split.png\")"
   ]
  },
  {
   "cell_type": "markdown",
   "metadata": {},
   "source": [
    "![Min samples split][fig2]\n",
    "\n",
    "[fig2]: https://raw.githubusercontent.com/JuanCTorres/KaggleHomeDepot/master/figures/decision_tree_min_samples_split.png \"Minimum samples required to split\""
   ]
  },
  {
   "cell_type": "code",
   "execution_count": 110,
   "metadata": {
    "collapsed": true
   },
   "outputs": [],
   "source": [
    "# Max depth\n",
    "plt.figure()\n",
    "\n",
    "depth_train_scores_mean = np.mean(depth_train_scores, axis=1)\n",
    "depth_valid_scores_mean = np.mean(depth_valid_scores, axis=1)\n",
    "\n",
    "plt.plot(arr, depth_train_scores_mean, 'o--', color='r',\n",
    "        label='Training score')\n",
    "plt.plot(arr, depth_valid_scores_mean, 'o--', color='g',\n",
    "        label=\"Cross-validation scores\")\n",
    "\n",
    "plt.legend(bbox_to_anchor=(0., 0.75, 1., .102), loc=1,\n",
    "           ncol=1,  borderaxespad=0.2)\n",
    "plt.title(\"Validation curve\")\n",
    "plt.xlabel(\"Maximum tree depth\")\n",
    "plt.ylabel(\"RMSE\")\n",
    "\n",
    "savefig(\"../figures/decision_tree_max_depth.png\")"
   ]
  },
  {
   "cell_type": "markdown",
   "metadata": {},
   "source": [
    "![Max depth][fig3]\n",
    "\n",
    "[fig3]: https://raw.githubusercontent.com/JuanCTorres/KaggleHomeDepot/master/figures/decision_tree_max_depth.png \"Maximum tree depth\""
   ]
  },
  {
   "cell_type": "code",
   "execution_count": null,
   "metadata": {
    "collapsed": true
   },
   "outputs": [],
   "source": []
  }
 ],
 "metadata": {
  "kernelspec": {
   "display_name": "Python 2",
   "language": "python",
   "name": "python2"
  },
  "language_info": {
   "codemirror_mode": {
    "name": "ipython",
    "version": 2
   },
   "file_extension": ".py",
   "mimetype": "text/x-python",
   "name": "python",
   "nbconvert_exporter": "python",
   "pygments_lexer": "ipython2",
   "version": "2.7.11"
  }
 },
 "nbformat": 4,
 "nbformat_minor": 0
}
