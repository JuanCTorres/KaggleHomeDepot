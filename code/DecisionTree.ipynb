{
 "cells": [
  {
   "cell_type": "code",
   "execution_count": 41,
   "metadata": {
    "collapsed": true
   },
   "outputs": [],
   "source": [
    "import pandas as pd\n",
    "import numpy as np\n",
    "from nltk.stem.snowball import SnowballStemmer\n",
    "from sklearn import tree"
   ]
  },
  {
   "cell_type": "code",
   "execution_count": 26,
   "metadata": {
    "collapsed": true
   },
   "outputs": [],
   "source": [
    "df_train = pd.read_csv(\"../input/train.csv\", encoding=\"ISO-8859-1\")\n",
    "df_test = pd.read_csv('../input/test.csv', encoding=\"ISO-8859-1\")\n",
    "df_attr = pd.read_csv('../input/attributes.csv')\n",
    "df_prod_desc = pd.read_csv('../input/product_descriptions.csv', index_col=\"product_uid\")"
   ]
  },
  {
   "cell_type": "code",
   "execution_count": 61,
   "metadata": {
    "collapsed": false
   },
   "outputs": [
    {
     "name": "stdout",
     "output_type": "stream",
     "text": [
      "   id  product_uid                         product_title  \\\n",
      "0   1       100001   \"Simpson Strong-Tie 12-Gauge Angle\"   \n",
      "1   4       100001     Simpson Strong-Tie 12-Gauge Angle   \n",
      "2   5       100001     Simpson Strong-Tie 12-Gauge Angle   \n",
      "3   6       100001     Simpson Strong-Tie 12-Gauge Angle   \n",
      "4   7       100001     Simpson Strong-Tie 12-Gauge Angle   \n",
      "\n",
      "                 search_term  \n",
      "0        \"90 degree bracket\"  \n",
      "1           metal l brackets  \n",
      "2           simpson sku able  \n",
      "3       simpson strong  ties  \n",
      "4  simpson strong tie hcc668  \n",
      "\n",
      "\n",
      "\n",
      "   id  product_uid                                      product_title  \\\n",
      "0   2       100001                \"Simpson Strong-Tie 12-Gauge Angle\"   \n",
      "1   3       100001                \"Simpson Strong-Tie 12-Gauge Angle\"   \n",
      "2   9       100002  BEHR Premium Textured DeckOver 1-gal. #SC-141 ...   \n",
      "3  16       100005  Delta Vero 1-Handle Shower Only Faucet Trim Ki...   \n",
      "4  17       100005  Delta Vero 1-Handle Shower Only Faucet Trim Ki...   \n",
      "\n",
      "          search_term  relevance  \n",
      "0       angle bracket       3.00  \n",
      "1         \"l bracket\"       2.50  \n",
      "2           deck over       3.00  \n",
      "3    rain shower head       2.33  \n",
      "4  shower only faucet       2.67  \n"
     ]
    }
   ],
   "source": [
    "print df_test.head()\n",
    "print \"\\n\\n\"\n",
    "print df_train.head()"
   ]
  },
  {
   "cell_type": "code",
   "execution_count": 38,
   "metadata": {
    "collapsed": false
   },
   "outputs": [],
   "source": [
    "train_num_feat = pd.DataFrame(0, index=np.arange(len(df_train)), columns=[\"search_in_title\",\\\n",
    "                                     \"search_in_desc\"])\n",
    "test_num_feat = pd.DataFrame(0, index=np.arange(len(df_test)), columns=[\"search_in_title\",\\\n",
    "                                     \"search_in_desc\"])\n",
    "\n",
    "# Count the training data occurrences\n",
    "for i in range(0, df_train.shape[0]):\n",
    "    search = df_train[\"search_term\"][i]  # Search term used by user\n",
    "    title = df_train[\"product_title\"][i] # Product Title\n",
    "    product_id = df_train.iloc[[i]][\"product_uid\"][i]  # Get product_uid of current index in df_train\n",
    "    description = df_prod_desc.loc[product_id][\"product_description\"] # Description of product id\n",
    "\n",
    "    lower_title = title.lower()\n",
    "    lower_description = description.lower()\n",
    "    \n",
    "    for word in search.split():\n",
    "        lower_word = word.lower()\n",
    "        \n",
    "        if lower_word in lower_title:\n",
    "            train_num_feat[\"search_in_title\"][i] += 1\n",
    "            \n",
    "        if lower_word in lower_description:\n",
    "            train_num_feat[\"search_in_desc\"][i] += 1\n",
    "            \n",
    "# Count the testing data occurrences\n",
    "for i in range(0, df_test.shape[0]):\n",
    "    search = df_test[\"search_term\"][i]  # Search term used by user\n",
    "    title = df_test[\"product_title\"][i] # Product Title\n",
    "    product_id = df_test.iloc[[i]][\"product_uid\"][i]  # Get product_uid of current index in df_train\n",
    "    description = df_prod_desc.loc[product_id][\"product_description\"] # Description of product id\n",
    "\n",
    "    lower_title = title.lower()\n",
    "    lower_description = description.lower()\n",
    "    \n",
    "    for word in search.split():\n",
    "        lower_word = word.lower()\n",
    "\n",
    "        if lower_word in lower_title:\n",
    "            test_num_feat[\"search_in_title\"][i] += 1\n",
    "            \n",
    "        if lower_word in lower_description:\n",
    "            test_num_feat[\"search_in_desc\"][i] += 1"
   ]
  },
  {
   "cell_type": "code",
   "execution_count": 62,
   "metadata": {
    "collapsed": false,
    "scrolled": false
   },
   "outputs": [
    {
     "name": "stdout",
     "output_type": "stream",
     "text": [
      "   search_in_title  search_in_desc\n",
      "0                1               1\n",
      "1                0               0\n",
      "2                2               2\n",
      "3                1               1\n",
      "4                3               3\n",
      "5                1               2\n",
      "6                2               2\n",
      "7                0               0\n",
      "8                2               2\n",
      "9                2               2\n"
     ]
    }
   ],
   "source": [
    "print train_num_feat.head(10)"
   ]
  },
  {
   "cell_type": "code",
   "execution_count": 57,
   "metadata": {
    "collapsed": false
   },
   "outputs": [
    {
     "name": "stdout",
     "output_type": "stream",
     "text": [
      "    relevance\n",
      "id           \n",
      "1    2.115264\n",
      "4    2.366940\n",
      "5    2.366940\n",
      "6    2.385426\n",
      "7    2.527643\n"
     ]
    }
   ],
   "source": [
    "clf = tree.DecisionTreeRegressor()\n",
    "clf.fit(train_num_feat, df_train[\"relevance\"])\n",
    "yhat_val = clf.predict(test_num_feat)\n",
    "df_yhat = pd.DataFrame(yhat_val, columns=[\"relevance\"], index=df_test[\"id\"])\n",
    "df_yhat.to_csv('yhat.csv')\n",
    "print yhat.head()"
   ]
  },
  {
   "cell_type": "code",
   "execution_count": null,
   "metadata": {
    "collapsed": true
   },
   "outputs": [],
   "source": []
  }
 ],
 "metadata": {
  "kernelspec": {
   "display_name": "Python 2",
   "language": "python",
   "name": "python2"
  },
  "language_info": {
   "codemirror_mode": {
    "name": "ipython",
    "version": 2
   },
   "file_extension": ".py",
   "mimetype": "text/x-python",
   "name": "python",
   "nbconvert_exporter": "python",
   "pygments_lexer": "ipython2",
   "version": "2.7.11"
  }
 },
 "nbformat": 4,
 "nbformat_minor": 0
}
