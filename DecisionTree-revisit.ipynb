{
 "cells": [
  {
   "cell_type": "code",
   "execution_count": 39,
   "metadata": {
    "collapsed": true
   },
   "outputs": [],
   "source": [
    "import pandas as pd\n",
    "import numpy as np\n",
    "import pprint\n",
    "\n",
    "from nltk.stem.snowball import SnowballStemmer\n",
    "from sklearn import tree\n",
    "from sklearn.metrics import mean_squared_error, make_scorer\n",
    "from sklearn.grid_search import GridSearchCV"
   ]
  },
  {
   "cell_type": "code",
   "execution_count": 30,
   "metadata": {
    "collapsed": true
   },
   "outputs": [],
   "source": [
    "df_train = pd.read_csv(\"../input/_final_train.csv\", encoding=\"ISO-8859-1\")\n",
    "df_test = pd.read_csv('../input/_final_test.csv', encoding=\"ISO-8859-1\")\n",
    "df_attr = pd.read_csv('../input/attributes.csv')\n",
    "df_prod_desc = pd.read_csv('../input/_final_desc.csv', index_col=\"product_uid\")\n",
    "ytrain = df_train[\"relevance\"]"
   ]
  },
  {
   "cell_type": "code",
   "execution_count": 13,
   "metadata": {
    "collapsed": false
   },
   "outputs": [
    {
     "name": "stdout",
     "output_type": "stream",
     "text": [
      "             Unnamed: 0                                product_description\n",
      "product_uid                                                               \n",
      "100001                0  not on do angl make joint stronger they also p...\n",
      "100002                1  behr premium textur deckov is an innov solid c...\n",
      "100003                2  classic architectur meet contemporari design i...\n",
      "100004                3  the grape solar 265watt. polycrystallin pv sol...\n",
      "100005                4  updat your bathroom with the delta vero singl ...\n"
     ]
    }
   ],
   "source": [
    "# print df_test.head()\n",
    "# print \"\\n\\n\"\n",
    "# print df_train.head()\n",
    "print df_prod_desc.head()"
   ]
  },
  {
   "cell_type": "markdown",
   "metadata": {},
   "source": [
    "## Utilities"
   ]
  },
  {
   "cell_type": "code",
   "execution_count": 33,
   "metadata": {
    "collapsed": false
   },
   "outputs": [],
   "source": [
    "def print_scores(clf):\n",
    "    pp = pprint.PrettyPrinter(indent=4)\n",
    "    print \"Best score and params:\"\n",
    "    pp.pprint(clf.best_score_)\n",
    "    pp.pprint(clf.best_params_)\n",
    "    \n",
    "    print \"All params and scores:\"\n",
    "    pp.pprint(clf.grid_scores_)\n",
    "\n",
    "def fmean_squared_error(ground_truth, predictions):\n",
    "    fmean_squared_error_ = mean_squared_error(ground_truth, predictions)**0.5\n",
    "    return fmean_squared_error_\n",
    "\n",
    "RMSE = make_scorer(fmean_squared_error, greater_is_better=False)"
   ]
  },
  {
   "cell_type": "markdown",
   "metadata": {},
   "source": [
    "## Create numerical features\n",
    "### Extract them"
   ]
  },
  {
   "cell_type": "code",
   "execution_count": 8,
   "metadata": {
    "collapsed": false
   },
   "outputs": [],
   "source": [
    "train_num_feat = pd.DataFrame(0, index=np.arange(len(df_train)), columns=[\"search_in_title\",\\\n",
    "                                     \"search_in_desc\"])\n",
    "test_num_feat = pd.DataFrame(0, index=np.arange(len(df_test)), columns=[\"search_in_title\",\\\n",
    "                                     \"search_in_desc\"])\n",
    "\n",
    "# Count the training data occurrences\n",
    "for i in range(0, df_train.shape[0]):\n",
    "    search = df_train[\"search_term\"][i]  # Search term used by user\n",
    "    title = df_train[\"product_title\"][i] # Product Title\n",
    "    product_id = df_train.iloc[[i]][\"product_uid\"][i]  # Get product_uid of current index in df_train\n",
    "    description = df_prod_desc.loc[product_id][\"product_description\"] # Description of product id\n",
    "    \n",
    "    for word in search.split():\n",
    "\n",
    "        if word in title:\n",
    "            train_num_feat[\"search_in_title\"][i] += 1\n",
    "            \n",
    "        if word in description:\n",
    "            train_num_feat[\"search_in_desc\"][i] += 1\n",
    "            \n",
    "# Count the testing data occurrences\n",
    "for i in range(0, df_test.shape[0]):\n",
    "    search = df_test[\"search_term\"][i]  # Search term used by user\n",
    "    title = df_test[\"product_title\"][i] # Product Title\n",
    "    product_id = df_test.iloc[[i]][\"product_uid\"][i]  # Get product_uid of current index in df_train\n",
    "    description = df_prod_desc.loc[product_id][\"product_description\"] # Description of product id\n",
    "\n",
    "    for word in search.split():\n",
    "        \n",
    "        if word in title:\n",
    "            test_num_feat[\"search_in_title\"][i] += 1\n",
    "        \n",
    "        if word in description:\n",
    "            test_num_feat[\"search_in_desc\"][i] += 1"
   ]
  },
  {
   "cell_type": "markdown",
   "metadata": {},
   "source": [
    "#### Export them"
   ]
  },
  {
   "cell_type": "code",
   "execution_count": 18,
   "metadata": {
    "collapsed": false,
    "scrolled": false
   },
   "outputs": [
    {
     "name": "stdout",
     "output_type": "stream",
     "text": [
      "   search_in_title  search_in_desc\n",
      "0                1               1\n",
      "1                1               1\n",
      "2                1               2\n",
      "3                1               1\n",
      "4                3               3\n",
      "5                1               2\n",
      "6                2               2\n",
      "7                1               1\n",
      "8                2               2\n",
      "9                2               1\n"
     ]
    }
   ],
   "source": [
    "print train_num_feat.head(10)\n",
    "train_num_feat.to_csv(\"../input/simple_train_num_feat.csv\")\n",
    "test_num_feat.to_csv(\"../input/simple_test_num_feat.csv\")"
   ]
  },
  {
   "cell_type": "markdown",
   "metadata": {},
   "source": [
    "### Or import them \n",
    "#### Simple"
   ]
  },
  {
   "cell_type": "code",
   "execution_count": 14,
   "metadata": {
    "collapsed": false
   },
   "outputs": [
    {
     "data": {
      "text/html": [
       "<div>\n",
       "<table border=\"1\" class=\"dataframe\">\n",
       "  <thead>\n",
       "    <tr style=\"text-align: right;\">\n",
       "      <th></th>\n",
       "      <th>search_in_title</th>\n",
       "      <th>search_in_desc</th>\n",
       "    </tr>\n",
       "  </thead>\n",
       "  <tbody>\n",
       "    <tr>\n",
       "      <th>0</th>\n",
       "      <td>1</td>\n",
       "      <td>1</td>\n",
       "    </tr>\n",
       "    <tr>\n",
       "      <th>1</th>\n",
       "      <td>1</td>\n",
       "      <td>1</td>\n",
       "    </tr>\n",
       "    <tr>\n",
       "      <th>2</th>\n",
       "      <td>1</td>\n",
       "      <td>2</td>\n",
       "    </tr>\n",
       "    <tr>\n",
       "      <th>3</th>\n",
       "      <td>1</td>\n",
       "      <td>1</td>\n",
       "    </tr>\n",
       "    <tr>\n",
       "      <th>4</th>\n",
       "      <td>3</td>\n",
       "      <td>3</td>\n",
       "    </tr>\n",
       "  </tbody>\n",
       "</table>\n",
       "</div>"
      ],
      "text/plain": [
       "   search_in_title  search_in_desc\n",
       "0                1               1\n",
       "1                1               1\n",
       "2                1               2\n",
       "3                1               1\n",
       "4                3               3"
      ]
     },
     "execution_count": 14,
     "metadata": {},
     "output_type": "execute_result"
    }
   ],
   "source": [
    "train_num_feat = pd.read_csv(\"../input/simple_train_num_feat.csv\", usecols=[1,2])\n",
    "test_num_feat = pd.read_csv(\"../input/simple_test_num_feat.csv\", usecols=[1,2])\n",
    "\n",
    "train_num_feat.head()"
   ]
  },
  {
   "cell_type": "markdown",
   "metadata": {},
   "source": [
    "#### Or more complex"
   ]
  },
  {
   "cell_type": "code",
   "execution_count": 15,
   "metadata": {
    "collapsed": false
   },
   "outputs": [
    {
     "data": {
      "text/html": [
       "<div>\n",
       "<table border=\"1\" class=\"dataframe\">\n",
       "  <thead>\n",
       "    <tr style=\"text-align: right;\">\n",
       "      <th></th>\n",
       "      <th>query_len</th>\n",
       "      <th>title_len</th>\n",
       "      <th>desc_len</th>\n",
       "      <th>brand_len</th>\n",
       "      <th>query_in_title</th>\n",
       "      <th>query_in_desc</th>\n",
       "      <th>query_last_word_in_title</th>\n",
       "      <th>query_last_word_in_desc</th>\n",
       "      <th>word_in_title</th>\n",
       "      <th>word_in_desc</th>\n",
       "      <th>ratio_title</th>\n",
       "      <th>ratio_description</th>\n",
       "      <th>word_in_brand</th>\n",
       "      <th>ratio_brand</th>\n",
       "      <th>brand_feature</th>\n",
       "      <th>search_term_feature</th>\n",
       "    </tr>\n",
       "  </thead>\n",
       "  <tbody>\n",
       "    <tr>\n",
       "      <th>0</th>\n",
       "      <td>2</td>\n",
       "      <td>6</td>\n",
       "      <td>135</td>\n",
       "      <td>3</td>\n",
       "      <td>0</td>\n",
       "      <td>0</td>\n",
       "      <td>0</td>\n",
       "      <td>0</td>\n",
       "      <td>1</td>\n",
       "      <td>1</td>\n",
       "      <td>0.500</td>\n",
       "      <td>0.500</td>\n",
       "      <td>0</td>\n",
       "      <td>0.00</td>\n",
       "      <td>1000</td>\n",
       "      <td>12</td>\n",
       "    </tr>\n",
       "    <tr>\n",
       "      <th>1</th>\n",
       "      <td>2</td>\n",
       "      <td>6</td>\n",
       "      <td>135</td>\n",
       "      <td>3</td>\n",
       "      <td>0</td>\n",
       "      <td>0</td>\n",
       "      <td>0</td>\n",
       "      <td>0</td>\n",
       "      <td>1</td>\n",
       "      <td>1</td>\n",
       "      <td>0.500</td>\n",
       "      <td>0.500</td>\n",
       "      <td>0</td>\n",
       "      <td>0.00</td>\n",
       "      <td>1000</td>\n",
       "      <td>9</td>\n",
       "    </tr>\n",
       "    <tr>\n",
       "      <th>2</th>\n",
       "      <td>2</td>\n",
       "      <td>12</td>\n",
       "      <td>169</td>\n",
       "      <td>4</td>\n",
       "      <td>0</td>\n",
       "      <td>0</td>\n",
       "      <td>0</td>\n",
       "      <td>0</td>\n",
       "      <td>1</td>\n",
       "      <td>1</td>\n",
       "      <td>0.500</td>\n",
       "      <td>0.500</td>\n",
       "      <td>1</td>\n",
       "      <td>0.25</td>\n",
       "      <td>1000</td>\n",
       "      <td>9</td>\n",
       "    </tr>\n",
       "    <tr>\n",
       "      <th>3</th>\n",
       "      <td>3</td>\n",
       "      <td>14</td>\n",
       "      <td>109</td>\n",
       "      <td>1</td>\n",
       "      <td>0</td>\n",
       "      <td>0</td>\n",
       "      <td>0</td>\n",
       "      <td>0</td>\n",
       "      <td>1</td>\n",
       "      <td>1</td>\n",
       "      <td>0.333</td>\n",
       "      <td>0.333</td>\n",
       "      <td>0</td>\n",
       "      <td>0.00</td>\n",
       "      <td>1010</td>\n",
       "      <td>16</td>\n",
       "    </tr>\n",
       "    <tr>\n",
       "      <th>4</th>\n",
       "      <td>3</td>\n",
       "      <td>14</td>\n",
       "      <td>109</td>\n",
       "      <td>1</td>\n",
       "      <td>1</td>\n",
       "      <td>0</td>\n",
       "      <td>1</td>\n",
       "      <td>1</td>\n",
       "      <td>3</td>\n",
       "      <td>3</td>\n",
       "      <td>1.000</td>\n",
       "      <td>1.000</td>\n",
       "      <td>0</td>\n",
       "      <td>0.00</td>\n",
       "      <td>1010</td>\n",
       "      <td>18</td>\n",
       "    </tr>\n",
       "  </tbody>\n",
       "</table>\n",
       "</div>"
      ],
      "text/plain": [
       "   query_len  title_len  desc_len  brand_len  query_in_title  query_in_desc  \\\n",
       "0          2          6       135          3               0              0   \n",
       "1          2          6       135          3               0              0   \n",
       "2          2         12       169          4               0              0   \n",
       "3          3         14       109          1               0              0   \n",
       "4          3         14       109          1               1              0   \n",
       "\n",
       "   query_last_word_in_title  query_last_word_in_desc  word_in_title  \\\n",
       "0                         0                        0              1   \n",
       "1                         0                        0              1   \n",
       "2                         0                        0              1   \n",
       "3                         0                        0              1   \n",
       "4                         1                        1              3   \n",
       "\n",
       "   word_in_desc  ratio_title  ratio_description  word_in_brand  ratio_brand  \\\n",
       "0             1        0.500              0.500              0         0.00   \n",
       "1             1        0.500              0.500              0         0.00   \n",
       "2             1        0.500              0.500              1         0.25   \n",
       "3             1        0.333              0.333              0         0.00   \n",
       "4             3        1.000              1.000              0         0.00   \n",
       "\n",
       "   brand_feature  search_term_feature  \n",
       "0           1000                   12  \n",
       "1           1000                    9  \n",
       "2           1000                    9  \n",
       "3           1010                   16  \n",
       "4           1010                   18  "
      ]
     },
     "execution_count": 15,
     "metadata": {},
     "output_type": "execute_result"
    }
   ],
   "source": [
    "train_num_feat = pd.read_csv(\"../input/more_features/lab_x_train.csv\")\n",
    "test_num_feat = pd.read_csv(\"../input/more_features/lab_x_test.csv\")\n",
    "\n",
    "train_num_feat.head()"
   ]
  },
  {
   "cell_type": "markdown",
   "metadata": {},
   "source": [
    "## Fit the model and predict both testing and training values\n",
    "### No cross-validation\n",
    "Keeping this just in case cross-validation does not work terribly well. Not holding my breath, since the default parameters already give such as small training error."
   ]
  },
  {
   "cell_type": "code",
   "execution_count": 10,
   "metadata": {
    "collapsed": false
   },
   "outputs": [
    {
     "name": "stdout",
     "output_type": "stream",
     "text": [
      "1.0 3.0\n",
      "0.228578828314\n"
     ]
    }
   ],
   "source": [
    "clf = tree.DecisionTreeRegressor(min_samples_split=3, max_depth=6)\n",
    "# clf = tree.DecisionTreeRegressor()\n",
    "clf.fit(train_num_feat, df_train[\"relevance\"])\n",
    "yhat_val = clf.predict(test_num_feat)\n",
    "df_yhat = pd.DataFrame(yhat_val, columns=[\"relevance\"], index=df_test[\"id\"])\n",
    "\n",
    "print min(df_yhat.loc[:, \"relevance\"]), max(df_yhat.loc[:, \"relevance\"])\n",
    "df_yhat.to_csv('../output/decision_tree_yhat.csv')\n",
    "\n",
    "yhat_train_val = clf.predict(train_num_feat)\n",
    "err = (df_train[\"relevance\"] - yhat_train_val) ** 2\n",
    "mse_train = sum(err) / df_train.shape[0]\n",
    "print mse_train"
   ]
  },
  {
   "cell_type": "markdown",
   "metadata": {},
   "source": [
    "### Cross-validation"
   ]
  },
  {
   "cell_type": "code",
   "execution_count": null,
   "metadata": {
    "collapsed": false
   },
   "outputs": [],
   "source": [
    "np.linspace(1, 16, 5).astype(int)\n",
    "print np.logspace(1, 100, 5)"
   ]
  },
  {
   "cell_type": "code",
   "execution_count": 38,
   "metadata": {
    "collapsed": false
   },
   "outputs": [
    {
     "ename": "NameError",
     "evalue": "global name 'pprint' is not defined",
     "output_type": "error",
     "traceback": [
      "\u001b[0;31m---------------------------------------------------------------------------\u001b[0m",
      "\u001b[0;31mNameError\u001b[0m                                 Traceback (most recent call last)",
      "\u001b[0;32m<ipython-input-38-d608c9d6322e>\u001b[0m in \u001b[0;36m<module>\u001b[0;34m()\u001b[0m\n\u001b[1;32m     15\u001b[0m \u001b[0mreg_multi\u001b[0m\u001b[0;34m.\u001b[0m\u001b[0mfit\u001b[0m\u001b[0;34m(\u001b[0m\u001b[0mtrain_num_feat\u001b[0m\u001b[0;34m,\u001b[0m \u001b[0mytrain\u001b[0m\u001b[0;34m)\u001b[0m\u001b[0;34m\u001b[0m\u001b[0m\n\u001b[1;32m     16\u001b[0m \u001b[0;34m\u001b[0m\u001b[0m\n\u001b[0;32m---> 17\u001b[0;31m \u001b[0mprint_scores\u001b[0m\u001b[0;34m(\u001b[0m\u001b[0mreg_multi\u001b[0m\u001b[0;34m)\u001b[0m\u001b[0;34m\u001b[0m\u001b[0m\n\u001b[0m",
      "\u001b[0;32m<ipython-input-33-915ca4807f9e>\u001b[0m in \u001b[0;36mprint_scores\u001b[0;34m(clf)\u001b[0m\n\u001b[1;32m      1\u001b[0m \u001b[0;32mdef\u001b[0m \u001b[0mprint_scores\u001b[0m\u001b[0;34m(\u001b[0m\u001b[0mclf\u001b[0m\u001b[0;34m)\u001b[0m\u001b[0;34m:\u001b[0m\u001b[0;34m\u001b[0m\u001b[0m\n\u001b[0;32m----> 2\u001b[0;31m     \u001b[0mpp\u001b[0m \u001b[0;34m=\u001b[0m \u001b[0mpprint\u001b[0m\u001b[0;34m.\u001b[0m\u001b[0mPrettyPrinter\u001b[0m\u001b[0;34m(\u001b[0m\u001b[0mindent\u001b[0m\u001b[0;34m=\u001b[0m\u001b[0;36m4\u001b[0m\u001b[0;34m)\u001b[0m\u001b[0;34m\u001b[0m\u001b[0m\n\u001b[0m\u001b[1;32m      3\u001b[0m     \u001b[0;32mprint\u001b[0m \u001b[0;34m\"Best score and params:\"\u001b[0m\u001b[0;34m\u001b[0m\u001b[0m\n\u001b[1;32m      4\u001b[0m     \u001b[0mpp\u001b[0m\u001b[0;34m.\u001b[0m\u001b[0mpprint\u001b[0m\u001b[0;34m(\u001b[0m\u001b[0mclf\u001b[0m\u001b[0;34m.\u001b[0m\u001b[0mbest_score_\u001b[0m\u001b[0;34m)\u001b[0m\u001b[0;34m\u001b[0m\u001b[0m\n\u001b[1;32m      5\u001b[0m     \u001b[0mpp\u001b[0m\u001b[0;34m.\u001b[0m\u001b[0mpprint\u001b[0m\u001b[0;34m(\u001b[0m\u001b[0mclf\u001b[0m\u001b[0;34m.\u001b[0m\u001b[0mbest_params_\u001b[0m\u001b[0;34m)\u001b[0m\u001b[0;34m\u001b[0m\u001b[0m\n",
      "\u001b[0;31mNameError\u001b[0m: global name 'pprint' is not defined"
     ]
    }
   ],
   "source": [
    "tree_multi = tree.DecisionTreeRegressor()\n",
    "# Create parameter grid\n",
    "splitter = [\"best\", \"random\"]\n",
    "max_features = np.linspace(1, 16, 5).astype(int)\n",
    "max_depth = np.linspace(2, 10, 5)\n",
    "min_samples_split = np.linspace(1, 5, 5)\n",
    "min_samples_leaf = np.linspace(1, 5, 5)\n",
    "presort = [True, False]\n",
    "\n",
    "param_grid = dict(splitter=splitter, max_features=max_features,\\\n",
    "                  max_depth=max_depth,\\\n",
    "                  min_samples_split=min_samples_split,\\\n",
    "                  min_samples_leaf=min_samples_leaf,\\\n",
    "                  presort=presort\n",
    "                 )\n",
    "\n",
    "# Cross validate!\n",
    "reg_multi = GridSearchCV(tree_multi, param_grid=param_grid, scoring=RMSE)\n",
    "reg_multi.fit(train_num_feat, ytrain)\n",
    "\n",
    "print_scores(reg_multi)"
   ]
  },
  {
   "cell_type": "code",
   "execution_count": null,
   "metadata": {
    "collapsed": true
   },
   "outputs": [],
   "source": []
  },
  {
   "cell_type": "markdown",
   "metadata": {},
   "source": [
    "### Export output and  some data for plotting"
   ]
  },
  {
   "cell_type": "code",
   "execution_count": null,
   "metadata": {
    "collapsed": true
   },
   "outputs": [],
   "source": [
    "pd_"
   ]
  },
  {
   "cell_type": "code",
   "execution_count": 6,
   "metadata": {
    "collapsed": false
   },
   "outputs": [],
   "source": [
    "def export_data(yhat, predictor_name):\n",
    "    \n",
    "    df_word_cloud = pd.DataFrame(0, index=np.arange(len(df_train)),\\\n",
    "                                 columns=[\"product_title\", \"search_term\", \"Y\", \"Yhat\", \"diff\"])\n",
    "    \n",
    "    df_num = pd.DataFrame(0, index=np.arange(len(df_train)),\\\n",
    "                                 columns=[\"Y\", \"Yhat\", \"diff\"])\n",
    "    \n",
    "    df_result = pd.Data\n",
    "\n",
    "    df_word_cloud[\"product_title\"] = df_train[\"product_title\"]\n",
    "    df_word_cloud[\"search_term\"] = df_train[\"search_term\"]\n",
    "    df_word_cloud[\"Y\"] = df_train[\"relevance\"]\n",
    "    df_word_cloud[\"Yhat\"] = yhat\n",
    "    df_word_cloud[\"diff\"] = (df_word_cloud[\"Y\"] - df_word_cloud[\"Yhat\"]) ** 2\n",
    "    \n",
    "    df_num[\"Y\"] = df_train[\"relevance\"]\n",
    "    df_num[\"Yhat\"] = yhat\n",
    "    df_num[\"diff\"] = df_word_cloud[\"diff\"]\n",
    "\n",
    "    output_file_words = \"../output/\" + predictor_name + \"_word_cloud.csv\"\n",
    "    output_file_num = \"../output/\" + predictor_name + \"_num.csv\"\n",
    "    \n",
    "    df_word_cloud.to_csv(output_file_words, encoding=\"utf-8\")\n",
    "    df_num.to_csv(output_file_num, encoding=\"utf-8\")"
   ]
  },
  {
   "cell_type": "code",
   "execution_count": 8,
   "metadata": {
    "collapsed": false
   },
   "outputs": [],
   "source": [
    "export_data(yhat_train_val, \"decision_tree_depth_lim\")"
   ]
  },
  {
   "cell_type": "code",
   "execution_count": 28,
   "metadata": {
    "collapsed": false
   },
   "outputs": [
    {
     "name": "stdout",
     "output_type": "stream",
     "text": [
      " simpson strong tie 12 gaug angl\n",
      "   search_in_title  search_in_desc\n",
      "0                0               0\n"
     ]
    }
   ],
   "source": [
    "print df_test.loc[0, \"product_title\"]\n",
    "print test_num_feat.iloc[[0]]"
   ]
  },
  {
   "cell_type": "code",
   "execution_count": 9,
   "metadata": {
    "collapsed": false,
    "scrolled": true
   },
   "outputs": [
    {
     "data": {
      "text/html": [
       "<div>\n",
       "<table border=\"1\" class=\"dataframe\">\n",
       "  <thead>\n",
       "    <tr style=\"text-align: right;\">\n",
       "      <th></th>\n",
       "      <th>Unnamed: 0</th>\n",
       "      <th>id</th>\n",
       "      <th>product_uid</th>\n",
       "      <th>product_title</th>\n",
       "      <th>search_term</th>\n",
       "    </tr>\n",
       "  </thead>\n",
       "  <tbody>\n",
       "    <tr>\n",
       "      <th>166692</th>\n",
       "      <td>166692</td>\n",
       "      <td>240760</td>\n",
       "      <td>224428</td>\n",
       "      <td>bosch 4in. bi metal hole saw</td>\n",
       "      <td>4in. hole saw</td>\n",
       "    </tr>\n",
       "  </tbody>\n",
       "</table>\n",
       "</div>"
      ],
      "text/plain": [
       "        Unnamed: 0      id  product_uid                 product_title  \\\n",
       "166692      166692  240760       224428  bosch 4in. bi metal hole saw   \n",
       "\n",
       "          search_term  \n",
       "166692  4in. hole saw  "
      ]
     },
     "execution_count": 9,
     "metadata": {},
     "output_type": "execute_result"
    }
   ],
   "source": [
    "df_test.loc[[df_test.shape[0] - 1]]"
   ]
  },
  {
   "cell_type": "code",
   "execution_count": 49,
   "metadata": {
    "collapsed": false
   },
   "outputs": [
    {
     "data": {
      "text/plain": [
       "1    Simpson Strong-Tie 12-Gauge Angle\n",
       "Name: product_title, dtype: object"
      ]
     },
     "execution_count": 49,
     "metadata": {},
     "output_type": "execute_result"
    }
   ],
   "source": [
    "df_test.loc[:, \"product_title\"].iloc[[1]]"
   ]
  },
  {
   "cell_type": "code",
   "execution_count": null,
   "metadata": {
    "collapsed": true
   },
   "outputs": [],
   "source": []
  }
 ],
 "metadata": {
  "kernelspec": {
   "display_name": "Python 2",
   "language": "python",
   "name": "python2"
  },
  "language_info": {
   "codemirror_mode": {
    "name": "ipython",
    "version": 2
   },
   "file_extension": ".py",
   "mimetype": "text/x-python",
   "name": "python",
   "nbconvert_exporter": "python",
   "pygments_lexer": "ipython2",
   "version": "2.7.11"
  }
 },
 "nbformat": 4,
 "nbformat_minor": 0
}
